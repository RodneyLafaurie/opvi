{
  "nbformat": 4,
  "nbformat_minor": 0,
  "metadata": {
    "colab": {
      "name": "Rodney Lafaurie - Algoritmos AG1 - Plantilla.ipynb",
      "provenance": [],
      "collapsed_sections": [],
      "include_colab_link": true
    },
    "kernelspec": {
      "name": "python3",
      "display_name": "Python 3"
    },
    "language_info": {
      "name": "python"
    }
  },
  "cells": [
    {
      "cell_type": "markdown",
      "metadata": {
        "id": "view-in-github",
        "colab_type": "text"
      },
      "source": [
        "<a href=\"https://colab.research.google.com/github/RodneyLafaurie/opvi/blob/master/Rodney_Lafaurie_Algoritmos_AG1_Plantilla.ipynb\" target=\"_parent\"><img src=\"https://colab.research.google.com/assets/colab-badge.svg\" alt=\"Open In Colab\"/></a>"
      ]
    },
    {
      "cell_type": "markdown",
      "metadata": {
        "id": "GG2D6vLdYwwy"
      },
      "source": [
        "Actividad Guiada 1 de Algoritmos de Optimizacion\n",
        "\n",
        "Nombre: Rodney Armando Lafaurie Mendoza\n",
        "\n",
        "https://colab.research.google.com/drive/11k8gDd3FFRxuYUzSJr-8DY4rW4Hqxc7U\n",
        "\n",
        "https://github.com/RodneyLafaurie/opvi/blob/master/Rodney_Lafaurie_Algoritmos_AG1_Plantilla.ipynb"
      ]
    },
    {
      "cell_type": "code",
      "metadata": {
        "id": "rTiqLuX2ZKuL",
        "colab": {
          "base_uri": "https://localhost:8080/"
        },
        "outputId": "70069658-54f7-4d89-a675-dc9ebeab46d2"
      },
      "source": [
        "#Torres de Hanoi - Divide y venceras\n",
        "################################################################################\n",
        "\n",
        "\n",
        "################################################################\n",
        "def Torres_Hanoi(N, desde, hasta):\n",
        "  if N==1:\n",
        "    print(\"Mueve desde \", desde, \" Hasta \", hasta)\n",
        "  else:\n",
        "    Torres_Hanoi(N-1,desde,6-desde-hasta)\n",
        "    print(\"Mueve desde \", desde, \" Hasta \", hasta)\n",
        "    Torres_Hanoi(N-1,6-desde-hasta, hasta)\n",
        "\n",
        "Torres_Hanoi(6,1,3)\n",
        "################################################################"
      ],
      "execution_count": 3,
      "outputs": [
        {
          "output_type": "stream",
          "name": "stdout",
          "text": [
            "Mueve desde  1  Hasta  2\n",
            "Mueve desde  1  Hasta  3\n",
            "Mueve desde  2  Hasta  3\n",
            "Mueve desde  1  Hasta  2\n",
            "Mueve desde  3  Hasta  1\n",
            "Mueve desde  3  Hasta  2\n",
            "Mueve desde  1  Hasta  2\n",
            "Mueve desde  1  Hasta  3\n",
            "Mueve desde  2  Hasta  3\n",
            "Mueve desde  2  Hasta  1\n",
            "Mueve desde  3  Hasta  1\n",
            "Mueve desde  2  Hasta  3\n",
            "Mueve desde  1  Hasta  2\n",
            "Mueve desde  1  Hasta  3\n",
            "Mueve desde  2  Hasta  3\n",
            "Mueve desde  1  Hasta  2\n",
            "Mueve desde  3  Hasta  1\n",
            "Mueve desde  3  Hasta  2\n",
            "Mueve desde  1  Hasta  2\n",
            "Mueve desde  3  Hasta  1\n",
            "Mueve desde  2  Hasta  3\n",
            "Mueve desde  2  Hasta  1\n",
            "Mueve desde  3  Hasta  1\n",
            "Mueve desde  3  Hasta  2\n",
            "Mueve desde  1  Hasta  2\n",
            "Mueve desde  1  Hasta  3\n",
            "Mueve desde  2  Hasta  3\n",
            "Mueve desde  1  Hasta  2\n",
            "Mueve desde  3  Hasta  1\n",
            "Mueve desde  3  Hasta  2\n",
            "Mueve desde  1  Hasta  2\n",
            "Mueve desde  1  Hasta  3\n",
            "Mueve desde  2  Hasta  3\n",
            "Mueve desde  2  Hasta  1\n",
            "Mueve desde  3  Hasta  1\n",
            "Mueve desde  2  Hasta  3\n",
            "Mueve desde  1  Hasta  2\n",
            "Mueve desde  1  Hasta  3\n",
            "Mueve desde  2  Hasta  3\n",
            "Mueve desde  2  Hasta  1\n",
            "Mueve desde  3  Hasta  1\n",
            "Mueve desde  3  Hasta  2\n",
            "Mueve desde  1  Hasta  2\n",
            "Mueve desde  3  Hasta  1\n",
            "Mueve desde  2  Hasta  3\n",
            "Mueve desde  2  Hasta  1\n",
            "Mueve desde  3  Hasta  1\n",
            "Mueve desde  2  Hasta  3\n",
            "Mueve desde  1  Hasta  2\n",
            "Mueve desde  1  Hasta  3\n",
            "Mueve desde  2  Hasta  3\n",
            "Mueve desde  1  Hasta  2\n",
            "Mueve desde  3  Hasta  1\n",
            "Mueve desde  3  Hasta  2\n",
            "Mueve desde  1  Hasta  2\n",
            "Mueve desde  1  Hasta  3\n",
            "Mueve desde  2  Hasta  3\n",
            "Mueve desde  2  Hasta  1\n",
            "Mueve desde  3  Hasta  1\n",
            "Mueve desde  2  Hasta  3\n",
            "Mueve desde  1  Hasta  2\n",
            "Mueve desde  1  Hasta  3\n",
            "Mueve desde  2  Hasta  3\n"
          ]
        }
      ]
    },
    {
      "cell_type": "code",
      "metadata": {
        "id": "UTL6wiczQVDA"
      },
      "source": [
        ""
      ],
      "execution_count": null,
      "outputs": []
    },
    {
      "cell_type": "code",
      "metadata": {
        "id": "YwBudj2hYoMR",
        "colab": {
          "base_uri": "https://localhost:8080/"
        },
        "outputId": "5916d3b6-c961-4777-ca6a-d174fe412885"
      },
      "source": [
        "#Cambio de monedas - Técnica voraz\n",
        "################################################################################\n",
        "\n",
        "################################################################\n",
        "def cambio_monedas(CANTIDAD,SISTEMA):\n",
        "  VALOR_ACUMULADO=0\n",
        "  SOLUCION=[0 for i in range(len(SISTEMA))]\n",
        "\n",
        "  for i in range(len(SISTEMA)):\n",
        "    monedas = (CANTIDAD - VALOR_ACUMULADO)//SISTEMA[i]\n",
        "    SOLUCION[i] = monedas\n",
        "    VALOR_ACUMULADO = VALOR_ACUMULADO + SISTEMA[i]*monedas\n",
        "\n",
        "    if VALOR_ACUMULADO == CANTIDAD:\n",
        "      return SOLUCION\n",
        "\n",
        "  return SOLUCION\n",
        "\n",
        "SISTEMA = sorted([500,100,25,10,5,1],reverse=True)\n",
        "print(cambio_monedas(58555,SISTEMA))\n",
        "################################################################"
      ],
      "execution_count": 10,
      "outputs": [
        {
          "output_type": "stream",
          "name": "stdout",
          "text": [
            "[117, 0, 2, 0, 1, 0]\n"
          ]
        }
      ]
    },
    {
      "cell_type": "code",
      "metadata": {
        "id": "9toJ4WjhQUNj"
      },
      "source": [
        ""
      ],
      "execution_count": null,
      "outputs": []
    },
    {
      "cell_type": "code",
      "metadata": {
        "id": "H4Iwt2XRZTFr",
        "colab": {
          "base_uri": "https://localhost:8080/"
        },
        "outputId": "a1f79b12-9cbf-48c6-8c59-a61a6fba222d"
      },
      "source": [
        "#N Reinas - Vuelta Atrás()\n",
        "################################################################################\n",
        "\n",
        "#Verifica que en la solución parcial no hay amenzas entre reinas\n",
        "################################################################\n",
        "def es_prometedora(SOLUCION,etapa):\n",
        "################################################################\n",
        "  #print(SOLUCION)\n",
        "  #Si la solución tiene dos valores iguales no es valida => Dos reinas en la misma fila\n",
        "  for i in range(etapa+1):\n",
        "    #print(\"El valor \" + str(SOLUCION[i]) + \" está \" +  str(SOLUCION.count(SOLUCION[i])) + \" veces\")\n",
        "    if SOLUCION.count(SOLUCION[i]) > 1:       \n",
        "      return False\n",
        "  \n",
        "    #Verifica las diagonales\n",
        "    for j in range(i+1, etapa +1 ):\n",
        "      #print(\"Comprobando diagonal de \" + str(i) + \" y \" + str(j))\n",
        "      if abs(i-j) == abs(SOLUCION[i]-SOLUCION[j]) : return False\n",
        "  return True\n",
        "\n",
        "#Traduce la solución al tablero\n",
        "################################################################\n",
        "def escribe_solucion(S):\n",
        "################################################################\n",
        "  n = len(S)\n",
        "  for x in range(n):\n",
        "    print(\"\")\n",
        "    for i in range(n):\n",
        "      if S[i] == x+1:\n",
        "        print(\" X \" , end=\"\")\n",
        "      else:\n",
        "        print(\" - \", end=\"\")\n",
        "\n",
        "\n",
        "\n",
        "#Proceso principal de N-Reinas\n",
        "################################################################\n",
        "def reinas(N,solucion=[],etapa=0): \n",
        "################################################################\n",
        "  if len(solucion) == 0:\n",
        "    solucion=[0 for i in range(N)]\n",
        "\n",
        "  for i in range(1,N+1):\n",
        "    solucion[etapa] = i\n",
        "\n",
        "    if (es_prometedora(solucion,etapa)):\n",
        "      if etapa == N-1:\n",
        "        print(\"La Solucion Es\", solucion)\n",
        "        escribe_solucion(solucion)\n",
        "      else:\n",
        "        reinas(N, solucion,etapa+1)\n",
        "    else:\n",
        "      None\n",
        "\n",
        "    solucion[etapa] = 0\n",
        "  \n",
        "reinas(4, solucion=[],etapa=0)"
      ],
      "execution_count": 19,
      "outputs": [
        {
          "output_type": "stream",
          "name": "stdout",
          "text": [
            "La Solucion Es [2, 4, 1, 3]\n",
            "\n",
            " -  -  X  - \n",
            " X  -  -  - \n",
            " -  -  -  X \n",
            " -  X  -  - La Solucion Es [3, 1, 4, 2]\n",
            "\n",
            " -  X  -  - \n",
            " -  -  -  X \n",
            " X  -  -  - \n",
            " -  -  X  - "
          ]
        }
      ]
    },
    {
      "cell_type": "code",
      "metadata": {
        "id": "eTZclKH9QV0R"
      },
      "source": [
        ""
      ],
      "execution_count": null,
      "outputs": []
    }
  ]
}